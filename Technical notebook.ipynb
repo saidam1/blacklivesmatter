{
 "cells": [
  {
   "cell_type": "markdown",
   "metadata": {},
   "source": [
    "# Sentiment Analysis on BlackLivesMatter Movement\n",
    "by Saida Muktar"
   ]
  },
  {
   "cell_type": "markdown",
   "metadata": {},
   "source": [
    "### Abstract\n",
    " * Police shootings is something that we all see in the news very regularly now.\n",
    " * We have previously analyzed how police shootings differ between races. According to our analysis Black people are being disproportionately killed by Police than other races. This has risen a Black Lives Matter Movement around the country. Why wouldn't you support the Black Lives Movement? I mean it is a good cause, right? However, there are many around the country that argue saying all lives matter or blue lives matter. We will be analyzing how people feel by using Twitter API to do a sentiment analysis on this issue.\n",
    " * In the first section the report will go over how the data was obtained for the analysis\n",
    " * In the second section the report will go over the data analysis\n",
    " * Finally, in the last section the report will go over the conclusions that came about from this analysis answering our research questions.\n"
   ]
  },
  {
   "cell_type": "markdown",
   "metadata": {},
   "source": [
    "### Obtaining Data\n",
    " * The data we will be using was obtaining from Twitter\n",
    " * In order to get Data from Twitter we needed to use API.\n",
    " * To use the Twitter API you would need to have an:\n",
    " \n",
    "     * API Key\n",
    "     \n",
    "     * API Secret Key\n",
    "     \n",
    "     * Access Token\n",
    "     \n",
    "     * Access Token Secret\n",
    "     \n",
    "   You can obtaining by first creating a Twitter account and then heading over to [Twitter Developer] (https://developer.twitter.com/en) and signing in. Once you sign it you would have to fill out some uestions before you are given your uniue keys.\n",
    "   \n",
    " * Now that you have your unie keys we would have to install and import tweepy.\n",
    " * Once tweepy is installed, you would need to use your Keys to be authorized to use the twitter API, once you put that in you can go ahead and call the api.\n",
    " * This process is shown below:"
   ]
  },
  {
   "cell_type": "code",
   "execution_count": 5,
   "metadata": {},
   "outputs": [
    {
     "name": "stdout",
     "output_type": "stream",
     "text": [
      "Collecting package metadata (current_repodata.json): ...working... done\n",
      "Solving environment: ...working... done\n",
      "\n",
      "# All requested packages already installed.\n",
      "\n"
     ]
    }
   ],
   "source": [
    "# tweepy installation\n",
    "\n",
    "import sys\n",
    "!conda install -c conda-forge --yes --prefix {sys.prefix} tweepy\n",
    "\n",
    "# accessing Twitter API\n",
    "\n",
    "import tweepy\n",
    "auth = tweepy.OAuthHandler('API KEY', 'API SECRET KEY')\n",
    "auth.set_access_token('ACCESS TOKEN', 'ACCESS TOKEN SECRET')\n",
    "\n",
    "api = tweepy.API(auth)"
   ]
  },
  {
   "cell_type": "code",
   "execution_count": 8,
   "metadata": {},
   "outputs": [],
   "source": [
    "import pandas as pd\n",
    "import re\n",
    "import matplotlib.pyplot as plt\n",
    "\n",
    "#Data Fetching\n",
    "#This searched the first 100 tweets with the text \"blacklivesmatter\", \"alllivesmatter\", \"bluelivesmatter\", \"whitelivesmatter\"\n",
    "\n",
    "blm = api.search('blacklivesmatter', count = 100, lang = \"en\")\n",
    "alllives = api.search('alllivesmatter', count = 100, lang = \"en\")\n",
    "bluelives = api.search('bluelivesmatter', count = 100, lang = \"en\")\n",
    "whitelives = api.search('whitelivesmatter', count = 100, lang = \"en\")\n",
    "\n",
    "#Once we have the tweets we will put them in a DataFrame so this could be easier when we clean the text \n",
    "\n",
    "blmdata = pd.DataFrame([tweet.text for tweet in blm], columns= ['Tweets on BLM'])\n",
    "alllivesdata = pd.DataFrame([tweet.text for tweet in alllives], columns= ['Tweets on alllives'])\n",
    "bluelivesdata = pd.DataFrame([tweet.text for tweet in bluelives], columns= ['Tweets on bluelives'])\n",
    "whitelivesdata = pd.DataFrame([tweet.text for tweet in whitelives], columns= ['Tweets on whitelives'])\n",
    "\n",
    "#To clean the tweets we are using the remove re, we are removing words that contain @ or # or links and retweets\n",
    "\n",
    "def cleanTxt(text):\n",
    "    text = re.sub(r'@[A-Za-z0-9]+','',text)\n",
    "    text = re.sub(r'#','',text)\n",
    "    text = re.sub(r'https?:\\/\\/\\S+','',text)\n",
    "    text = re.sub(r'RT[\\s]+','',text)\n",
    "    return text\n",
    "\n",
    "whitelivesdata['Tweets on whitelives'] = whitelivesdata['Tweets on whitelives'].apply(cleanTxt)\n",
    "bluelivesdata['Tweets on bluelives'] = bluelivesdata['Tweets on bluelives'].apply(cleanTxt)\n",
    "alllivesdata['Tweets on alllives'] = alllivesdata['Tweets on alllives'].apply(cleanTxt)\n",
    "blmdata['Tweets on BLM'] = blmdata['Tweets on BLM'].apply(cleanTxt)\n",
    "\n"
   ]
  },
  {
   "attachments": {},
   "cell_type": "markdown",
   "metadata": {},
   "source": [
    "These are the first five datas for each word we searched twitter that we get after we clean:\n",
    "![image](https://user-images.githubusercontent.com/70491460/95353817-b7b05980-0891-11eb-9e54-bda7f401db98.png)\n",
    "![image](https://user-images.githubusercontent.com/70491460/95354022-f47c5080-0891-11eb-9f88-a46f727826f8.png)\n",
    "![image](https://user-images.githubusercontent.com/70491460/95354139-170e6980-0892-11eb-857c-118d12a5a5c0.png)\n",
    "![image](https://user-images.githubusercontent.com/70491460/95354278-3a391900-0892-11eb-8f06-453102324eb8.png)\n",
    "\n",
    "\n"
   ]
  },
  {
   "cell_type": "code",
   "execution_count": 10,
   "metadata": {},
   "outputs": [],
   "source": [
    "# Save these as csv file \n",
    "whitelivesdata.to_csv('Tweets_on_BLM.csv')\n",
    "blmdata.to_csv('Tweets_on_BLM.csv')\n",
    "bluelivesdata.to_csv('Tweets_on_BLM.csv')\n",
    "alllivesdata.to_csv('Tweets_on_BLM.csv')"
   ]
  },
  {
   "cell_type": "markdown",
   "metadata": {},
   "source": [
    "### Data Analysis\n",
    "\n",
    "* Now that we have obtained the data we will be analyzing whether these tweets on the four keywords chosen are positive or negative, using TextBlob as our basis of what is positive, negative or neutral.\n",
    "* TextBlob is a Python library for processing textual data. It provides a simple API for diving into common natural language processing (NLP) tasks such as part-of-speech tagging, noun phrase extraction, sentiment analysis, classification, translation, and more.\n",
    "* In order to do this we are going to find the subjectivity and polarity of each keyword.\n",
    "* Once we find that we are going to check if the polarity is positive, negative, or neutral to see how people who are tweeting these feel about them."
   ]
  },
  {
   "cell_type": "markdown",
   "metadata": {},
   "source": [
    "* In the first part of the analysis we are going to import TextBlob \n",
    "* We will then create a function to find the subjectivity and polarity using textblob\n",
    "* We will then apply these functions to the datas that we have obtained from Twitter creating three new columns of Subjectivity, Polarity and Analysis\n",
    "* The Analysis section will check if the score of the Polarity obtained for tweet is positive, negative, or neutral."
   ]
  },
  {
   "cell_type": "markdown",
   "metadata": {},
   "source": [
    "After obtaining the Subjectivity and Polarity these graphs below were plotted to show the relationship between the Subjectivity and Polarity. There are four graphs to show the relathionship of the four keywords.\n",
    "\n",
    "![image](https://user-images.githubusercontent.com/70491460/95507062-db050280-097e-11eb-8cd5-ad1f1c9ccd6d.png)\n",
    "![image](https://user-images.githubusercontent.com/70491460/95507953-3be10a80-0980-11eb-905f-32fb094faf98.png)\n",
    "![image](https://user-images.githubusercontent.com/70491460/95508022-59ae6f80-0980-11eb-9e8f-f166a689d67f.png)\n",
    "![image](https://user-images.githubusercontent.com/70491460/95508074-6f239980-0980-11eb-92f8-09630aae2d2b.png)\n"
   ]
  },
  {
   "cell_type": "markdown",
   "metadata": {},
   "source": [
    "* Next we will be plotting a graph to show the amount of times they keywords were mentioned based of our analysis\n",
    "* In order to do that we will be using valuecounts() \n",
    "\n",
    "![image](https://user-images.githubusercontent.com/70491460/95512961-93cf3f80-0987-11eb-8b90-efea665d57ba.png)\n"
   ]
  },
  {
   "cell_type": "markdown",
   "metadata": {},
   "source": [
    "* The next step to the Data Analysis was to see the perecentage difference of the Positive, Negative, and Neutral tweets about Black Lives Matter, White Lives Matter, Blue Lives Matter, and All Lives Matter. \n",
    "* The graph below will show the percentage of tweets that are Positive, Negative, and Neutral for each of the kwywords based on the TextBlob definition of what is Positive, Negative, and Neutral\n",
    "\n",
    "![image](https://user-images.githubusercontent.com/70491460/95513286-1952ef80-0988-11eb-9a0c-e0a12629df76.png)\n"
   ]
  },
  {
   "cell_type": "markdown",
   "metadata": {},
   "source": [
    "### Conclusion\n",
    " * We have obtained data from Twitter looking by looking for the keywords BlackLivesMatter, WhiteLivesMatter, BlueLivesMatter, and AllLivesMatter.\n",
    " * We have used sentiment analysis in order to see if the tweets with these key words were Positive, Negative or Neutral based on TextBlob.\n",
    " * Finally, we found the percent of Positive, Negative, and Neutral tweets of each keyword and compared them.\n",
    " * According to TextBlob:\n",
    "     * ~ 40% of people tweeting about Black Lives Matter are tweeting about it Negatively\n",
    "     * ~ 30% of people tweeting about White Lives Matter are tweeting about it Negatively\n",
    "     * ~ 70% of people tweeting about Blue Lives Matter are tweeting about it Negatively\n",
    "     * ~ 15% of people tweeting about All Lives Matter are tweeting about it Negatively\n",
    "     \n",
    "     \n",
    " "
   ]
  },
  {
   "cell_type": "markdown",
   "metadata": {},
   "source": [
    "* According to TextBlob:\n",
    "    * ~ 25% of people tweeting about Black Lives Matter are tweeting about it Positvely\n",
    "    * ~ 35% of people tweeting about White Lives Matter are tweeting about it Positvely\n",
    "    * ~ 15% of people tweeting about Blue Lives Matter are tweeting about it Positively\n",
    "    * ~ 40% of people tweeting about All Lives Matter are tweeting about it Positively"
   ]
  },
  {
   "cell_type": "markdown",
   "metadata": {},
   "source": [
    "This report has shown that according to TextBlob Black Lives Matter is more negatively talked about than White Lives Matter and All Lives Matter. \n",
    "Something that has come to a suprise is the amount of negativity that Blue Lives Matter has brought about on Twitter according to TextBlob which was not something I was expecting but shows to shine a light on the fact that people agree that cop lives yes matter but it's your choic to become a cop, and its different than a skin color which you can't change."
   ]
  },
  {
   "cell_type": "code",
   "execution_count": null,
   "metadata": {},
   "outputs": [],
   "source": []
  }
 ],
 "metadata": {
  "kernelspec": {
   "display_name": "Python 3",
   "language": "python",
   "name": "python3"
  },
  "language_info": {
   "codemirror_mode": {
    "name": "ipython",
    "version": 3
   },
   "file_extension": ".py",
   "mimetype": "text/x-python",
   "name": "python",
   "nbconvert_exporter": "python",
   "pygments_lexer": "ipython3",
   "version": "3.8.3"
  }
 },
 "nbformat": 4,
 "nbformat_minor": 4
}
